{
 "cells": [
  {
   "cell_type": "markdown",
   "metadata": {},
   "source": [
    "## TLDR;\n",
    "\n",
    "\n"
   ]
  },
  {
   "cell_type": "markdown",
   "metadata": {},
   "source": [
    "## Imports"
   ]
  },
  {
   "cell_type": "code",
   "execution_count": 15,
   "metadata": {},
   "outputs": [],
   "source": [
    "import os\n",
    "from tqdm import tqdm\n",
    "import sys\n",
    "from pycaprio import Pycaprio\n",
    "from pycaprio.mappings import InceptionFormat\n",
    "from pathlib import Path\n",
    "sys.path.append('./lib/')\n",
    "from impresso.helpers.inception import make_inception_client, find_project_by_name, index_project_documents"
   ]
  },
  {
   "cell_type": "markdown",
   "metadata": {},
   "source": [
    "## Config"
   ]
  },
  {
   "cell_type": "code",
   "execution_count": 49,
   "metadata": {},
   "outputs": [],
   "source": [
    "data_basedir = \"../data/preparation\"\n",
    "tmp_dir = os.path.join(data_basedir, 'tmp')\n",
    "schema_path = '../data/preparation/TypeSystem.xml'"
   ]
  },
  {
   "cell_type": "markdown",
   "metadata": {},
   "source": [
    "## Functions"
   ]
  },
  {
   "cell_type": "code",
   "execution_count": 24,
   "metadata": {},
   "outputs": [],
   "source": [
    "from pycaprio.mappings import InceptionFormat, AnnotationState\n",
    "from pycaprio.core.exceptions import InceptionBadResponse\n",
    "\n",
    "def upload_annotations(\n",
    "    input_path: str,\n",
    "    document_id,\n",
    "    client: Pycaprio,\n",
    "    project_id: int,\n",
    "    user: str,\n",
    "    state: AnnotationState = AnnotationState.IN_PROGRESS\n",
    "):\n",
    "    with open(input_path) as annotation_file:\n",
    "        try:\n",
    "            new_annotation = client.api.create_annotation(\n",
    "                project_id,\n",
    "                document_id,\n",
    "                user,\n",
    "                annotation_file,\n",
    "                annotation_format=InceptionFormat.XMI,\n",
    "                annotation_state=state\n",
    "            )\n",
    "        except InceptionBadResponse as e:\n",
    "            print(e.bad_response.content)\n",
    "            raise e"
   ]
  },
  {
   "cell_type": "markdown",
   "metadata": {},
   "source": [
    "## Do the job"
   ]
  },
  {
   "cell_type": "code",
   "execution_count": 9,
   "metadata": {},
   "outputs": [],
   "source": [
    "os.environ['INCEPTION_HOST'] = \"https://inception.dhlab.epfl.ch/prod/\"\n",
    "os.environ['INCEPTION_USERNAME'] = \"mromanello\"\n",
    "os.environ['INCEPTION_PASSWORD'] = \"5867vifa2v92qpfksj\""
   ]
  },
  {
   "cell_type": "code",
   "execution_count": 10,
   "metadata": {},
   "outputs": [],
   "source": [
    "inception_client = make_inception_client()"
   ]
  },
  {
   "cell_type": "code",
   "execution_count": 13,
   "metadata": {},
   "outputs": [],
   "source": [
    "language = 'fr'\n",
    "target_project_name = f'ajmc-doubleannot-{language}'\n",
    "target_project = find_project_by_name(inception_client, target_project_name)"
   ]
  },
  {
   "cell_type": "code",
   "execution_count": 14,
   "metadata": {},
   "outputs": [
    {
     "data": {
      "text/plain": [
       "<Project #65: ajmc-doubleannot-fr>"
      ]
     },
     "execution_count": 14,
     "metadata": {},
     "output_type": "execute_result"
    }
   ],
   "source": [
    "target_project"
   ]
  },
  {
   "cell_type": "code",
   "execution_count": 21,
   "metadata": {},
   "outputs": [
    {
     "data": {
      "text/plain": [
       "['data/preparation/doubleannot/fr/kduc/lestragdiesdeso00tourgoog_0076.xmi',\n",
       " 'data/preparation/doubleannot/fr/kduc/lestragdiesdeso00tourgoog_0061.xmi',\n",
       " 'data/preparation/doubleannot/fr/kduc/lestragdiesdeso00tourgoog_0134.xmi',\n",
       " 'data/preparation/doubleannot/fr/kduc/lestragdiesdeso00tourgoog_0152.xmi',\n",
       " 'data/preparation/doubleannot/fr/kduc/lestragdiesdeso00tourgoog_0025.xmi',\n",
       " 'data/preparation/doubleannot/fr/kduc/lestragdiesdeso00tourgoog_0024.xmi',\n",
       " 'data/preparation/doubleannot/fr/kduc/lestragdiesdeso00tourgoog_0142.xmi']"
      ]
     },
     "execution_count": 21,
     "metadata": {},
     "output_type": "execute_result"
    }
   ],
   "source": [
    "data_basedir = 'data/preparation/doubleannot/fr/kduc/'\n",
    "\n",
    "annotated_files = [\n",
    "    os.path.join(data_basedir, file)\n",
    "    for file in os.listdir(data_basedir)\n",
    "]\n",
    "\n",
    "annotated_files"
   ]
  },
  {
   "cell_type": "code",
   "execution_count": 27,
   "metadata": {},
   "outputs": [
    {
     "name": "stderr",
     "output_type": "stream",
     "text": [
      "100%|██████████| 7/7 [00:07<00:00,  1.10s/it]\n"
     ]
    }
   ],
   "source": [
    "users = [\"kduc\"]\n",
    "uploaded_docs = []\n",
    "\n",
    "idx_id2name, idx_name2id = index_project_documents(target_project.project_id, inception_client)\n",
    "\n",
    "for inp_path in tqdm(annotated_files):\n",
    "    file = os.path.basename(inp_path)\n",
    "    \n",
    "    if file not in idx_name2id:\n",
    "        continue\n",
    "    \n",
    "    inception_document_id = idx_name2id[file]\n",
    "    inception_project_id = target_project.project_id\n",
    "    \n",
    "    for user in users:\n",
    "        upload_annotations(\n",
    "            inp_path,\n",
    "            inception_document_id,\n",
    "            inception_client,\n",
    "            inception_project_id,\n",
    "            user,\n",
    "            AnnotationState.COMPLETE\n",
    "        )\n",
    "        uploaded_docs.append((inception_document_id, file, inp_path))"
   ]
  }
 ],
 "metadata": {
  "kernelspec": {
   "display_name": "Python 3",
   "language": "python",
   "name": "python3"
  },
  "language_info": {
   "codemirror_mode": {
    "name": "ipython",
    "version": 3
   },
   "file_extension": ".py",
   "mimetype": "text/x-python",
   "name": "python",
   "nbconvert_exporter": "python",
   "pygments_lexer": "ipython3",
   "version": "3.8.0"
  },
  "toc": {
   "base_numbering": 1,
   "nav_menu": {},
   "number_sections": false,
   "sideBar": true,
   "skip_h1_title": false,
   "title_cell": "Table of Contents",
   "title_sidebar": "Contents",
   "toc_cell": false,
   "toc_position": {},
   "toc_section_display": true,
   "toc_window_display": true
  }
 },
 "nbformat": 4,
 "nbformat_minor": 2
}
