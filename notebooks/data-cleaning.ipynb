{
 "cells": [
  {
   "cell_type": "markdown",
   "id": "b5dbd770",
   "metadata": {},
   "source": [
    "## Imports"
   ]
  },
  {
   "cell_type": "code",
   "execution_count": 46,
   "id": "1971e373",
   "metadata": {},
   "outputs": [],
   "source": [
    "import sys\n",
    "import pandas as pd\n",
    "sys.path.append('lib/')\n",
    "from ajmc_utils import AjmcDocument, read_xmi\n",
    "from convert_xmi2clef_format import index_inception_files"
   ]
  },
  {
   "cell_type": "markdown",
   "id": "edaf0140",
   "metadata": {},
   "source": [
    "## Functions"
   ]
  },
  {
   "cell_type": "code",
   "execution_count": 67,
   "id": "71aa68bc",
   "metadata": {},
   "outputs": [],
   "source": [
    "def extract_entity_info(doc: AjmcDocument, lang: str):\n",
    "    entities = []\n",
    "    for mention in doc.mentions.values():\n",
    "        if (\n",
    "            \"-full\" not in mention['entity_fine'] and\n",
    "            \"-partial\" not in mention['entity_fine'] and\n",
    "            mention['entity_fine'] != \"scope\"\n",
    "            ):\n",
    "            entity_linking_info = doc.links[mention['id']]\n",
    "            entities.append({\n",
    "                \"surface\": mention['transcript'] if mention['transcript'] else mention['surface'],\n",
    "                \"ocr_transcript\": mention['surface'],\n",
    "                \"gold_transcript\": mention['transcript'],\n",
    "                \"noisy_entity\": False if mention['levenshtein_norm'] == 0 else True,\n",
    "                \"document_id\": doc.id,\n",
    "                \"language\": lang,\n",
    "                \"entity_fine_type\": mention['entity_fine'],\n",
    "                \"wikidata_id\": entity_linking_info['wikidata_id'] if not entity_linking_info['is_NIL'] else \"NIL\"\n",
    "            })\n",
    "    return entities"
   ]
  },
  {
   "cell_type": "markdown",
   "id": "965fa1b7",
   "metadata": {},
   "source": [
    "## Paths"
   ]
  },
  {
   "cell_type": "code",
   "execution_count": 27,
   "id": "9fbdd62a",
   "metadata": {},
   "outputs": [],
   "source": [
    "paths = {\n",
    "    \"de\": \"data/preparation/corpus/de/retokenized/\",\n",
    "    \"en\": \"data/preparation/corpus/en/retokenized/\",\n",
    "    \"fr\": \"data/preparation/corpus/fr/retokenized/\"\n",
    "}"
   ]
  },
  {
   "cell_type": "markdown",
   "id": "c7631374",
   "metadata": {},
   "source": [
    "## Logic\n",
    "\n",
    "- go to data/preparation and index inception files\n",
    "- read files into `AjmcDocument` with `read_xmi`\n",
    "- use a function to extract info about entities\n",
    "- load entities into a dataframe\n",
    "- filter only the types we are interested in\n",
    "- do a groupby on surface + QID to find out variations in the assigned entity links"
   ]
  },
  {
   "cell_type": "code",
   "execution_count": 68,
   "id": "065c174f",
   "metadata": {},
   "outputs": [
    {
     "name": "stdout",
     "output_type": "stream",
     "text": [
      "106 files in de dataset\n"
     ]
    },
    {
     "name": "stderr",
     "output_type": "stream",
     "text": [
      "ERROR:root:Transcript for entity Καὶ 385 is present in data/preparation/corpus/de/retokenized/Wecklein1894_0036.xmi, yet entity is not marked as noisy. Levenshtein distance is computed nevertheless.\n",
      "ERROR:root:Transcript for entity Od. is present in data/preparation/corpus/de/retokenized/Wecklein1894_0050.xmi, yet entity is not marked as noisy. Levenshtein distance is computed nevertheless.\n",
      "ERROR:root:Transcript for entity 1 8 48, 13, 10 is present in data/preparation/corpus/de/retokenized/Wecklein1894_0052.xmi, yet entity is not marked as noisy. Levenshtein distance is computed nevertheless.\n",
      "ERROR:root:Transcript for entity Od. T. is present in data/preparation/corpus/de/retokenized/Wecklein1894_0059.xmi, yet entity is not marked as noisy. Levenshtein distance is computed nevertheless.\n",
      "ERROR:root:Transcript for entity ΕἸ. is present in data/preparation/corpus/de/retokenized/sophokle1v3soph_0057.xmi, yet entity is not marked as noisy. Levenshtein distance is computed nevertheless.\n",
      "ERROR:root:Transcript for entity Pind. Isthm. 5, AYAF is present in data/preparation/corpus/de/retokenized/sophokle1v3soph_0079.xmi, yet entity is not marked as noisy. Levenshtein distance is computed nevertheless.\n",
      "ERROR:root:Transcript for entity Phil. is present in data/preparation/corpus/de/retokenized/sophokle1v3soph_0080.xmi, yet entity is not marked as noisy. Levenshtein distance is computed nevertheless.\n",
      "ERROR:root:Transcript for entity 0. C. is present in data/preparation/corpus/de/retokenized/sophokle1v3soph_0108.xmi, yet entity is not marked as noisy. Levenshtein distance is computed nevertheless.\n"
     ]
    },
    {
     "name": "stdout",
     "output_type": "stream",
     "text": [
      "Found 1452 entities in 106 files\n",
      "86 files in en dataset\n"
     ]
    },
    {
     "name": "stderr",
     "output_type": "stream",
     "text": [
      "ERROR:root:Transcript for entity Electra, Il. 201, 690-5, 1379 foll. is present in data/preparation/corpus/en/retokenized/cu31924087948174_0011.xmi, yet entity is not marked as noisy. Levenshtein distance is computed nevertheless.\n",
      "ERROR:root:Transcript for entity Ajax, 11. 855, 966-71, 994, 5 is present in data/preparation/corpus/en/retokenized/cu31924087948174_0011.xmi, yet entity is not marked as noisy. Levenshtein distance is computed nevertheless.\n",
      "ERROR:root:Transcript for entity E.onL.§ 13. Ρ. 10 6 is present in data/preparation/corpus/en/retokenized/cu31924087948174_0047.xmi, yet entity is not marked as noisy. Levenshtein distance is computed nevertheless.\n",
      "ERROR:root:Transcript for noisy entity Hdt. 9 37 is missing in data/preparation/corpus/en/retokenized/cu31924087948174_0055.xmi. Levenshtein distance cannot be computed and is set to 0.\n",
      "ERROR:root:Transcript for entity L. and 5. is present in data/preparation/corpus/en/retokenized/cu31924087948174_0084.xmi, yet entity is not marked as noisy. Levenshtein distance is computed nevertheless.\n",
      "ERROR:root:Transcript for noisy entity 868, ο is missing in data/preparation/corpus/en/retokenized/cu31924087948174_0100.xmi. Levenshtein distance cannot be computed and is set to 0.\n",
      "ERROR:root:Transcript for noisy entity ὃ 55. p. 1071, 6 is missing in data/preparation/corpus/en/retokenized/cu31924087948174_0116.xmi. Levenshtein distance cannot be computed and is set to 0.\n",
      "ERROR:root:Transcript for entity 2. 6o is present in data/preparation/corpus/en/retokenized/cu31924087948174_0128.xmi, yet entity is not marked as noisy. Levenshtein distance is computed nevertheless.\n",
      "ERROR:root:Transcript for entity Aristotle (Δ δίς 1. 15 § 13) is present in data/preparation/corpus/en/retokenized/sophoclesplaysa05campgoog_0014.xmi, yet entity is not marked as noisy. Levenshtein distance is computed nevertheless.\n",
      "ERROR:root:\n",
      "ERROR:root:Problem with entity annotation 5744 in data/preparation/corpus/en/retokenized/sophoclesplaysa05campgoog_0050.xmi\n",
      "ERROR:root:Transcript for entity 257. 1075 is present in data/preparation/corpus/en/retokenized/sophoclesplaysa05campgoog_0146.xmi, yet entity is not marked as noisy. Levenshtein distance is computed nevertheless.\n",
      "ERROR:root:Transcript for entity Philostratus ( Viz. Apoll. Δ. 22 § 5) is present in data/preparation/corpus/en/retokenized/sophoclesplaysa05campgoog_0146.xmi, yet entity is not marked as noisy. Levenshtein distance is computed nevertheless.\n",
      "ERROR:root:Transcript for entity P. . is present in data/preparation/corpus/en/retokenized/sophoclesplaysa05campgoog_0147.xmi, yet entity is not marked as noisy. Levenshtein distance is computed nevertheless.\n",
      "ERROR:root:Transcript for entity Aci. is present in data/preparation/corpus/en/retokenized/sophoclesplaysa05campgoog_0147.xmi, yet entity is not marked as noisy. Levenshtein distance is computed nevertheless.\n"
     ]
    },
    {
     "name": "stdout",
     "output_type": "stream",
     "text": [
      "Found 1620 entities in 106 files\n",
      "104 files in fr dataset\n"
     ]
    },
    {
     "name": "stderr",
     "output_type": "stream",
     "text": [
      "ERROR:root:Transcript for entity Cy- γορέάϊε is present in data/preparation/corpus/fr/retokenized/lestragdiesdeso00tourgoog_0057.xmi, yet entity is not marked as noisy. Levenshtein distance is computed nevertheless.\n",
      "ERROR:root:Transcript for entity OEdipe Roi is present in data/preparation/corpus/fr/retokenized/lestragdiesdeso00tourgoog_0061.xmi, yet entity is not marked as noisy. Levenshtein distance is computed nevertheless.\n",
      "ERROR:root:Transcript for entity vers 4052 is present in data/preparation/corpus/fr/retokenized/lestragdiesdeso00tourgoog_0062.xmi, yet entity is not marked as noisy. Levenshtein distance is computed nevertheless.\n",
      "ERROR:root:Transcript for entity 4269 is present in data/preparation/corpus/fr/retokenized/lestragdiesdeso00tourgoog_0063.xmi, yet entity is not marked as noisy. Levenshtein distance is computed nevertheless.\n",
      "ERROR:root:Transcript for entity 536 εἰ oo7 is present in data/preparation/corpus/fr/retokenized/lestragdiesdeso00tourgoog_0063.xmi, yet entity is not marked as noisy. Levenshtein distance is computed nevertheless.\n",
      "ERROR:root:Transcript for entity oo7 is present in data/preparation/corpus/fr/retokenized/lestragdiesdeso00tourgoog_0063.xmi, yet entity is not marked as noisy. Levenshtein distance is computed nevertheless.\n",
      "ERROR:root:Transcript for entity Ηοπιὲδτο is present in data/preparation/corpus/fr/retokenized/lestragdiesdeso00tourgoog_0063.xmi, yet entity is not marked as noisy. Levenshtein distance is computed nevertheless.\n",
      "ERROR:root:Transcript for entity 1, 99 is present in data/preparation/corpus/fr/retokenized/lestragdiesdeso00tourgoog_0064.xmi, yet entity is not marked as noisy. Levenshtein distance is computed nevertheless.\n",
      "ERROR:root:Transcript for entity Ajux is present in data/preparation/corpus/fr/retokenized/lestragdiesdeso00tourgoog_0064.xmi, yet entity is not marked as noisy. Levenshtein distance is computed nevertheless.\n",
      "ERROR:root:Transcript for noisy entity τ. 785-786 is missing in data/preparation/corpus/fr/retokenized/lestragdiesdeso00tourgoog_0076.xmi. Levenshtein distance cannot be computed and is set to 0.\n",
      "ERROR:root:Transcript for entity V. 1288 is present in data/preparation/corpus/fr/retokenized/lestragdiesdeso00tourgoog_0076.xmi, yet entity is not marked as noisy. Levenshtein distance is computed nevertheless.\n",
      "ERROR:root:Transcript for entity ΟΕ Δ. (οί. is present in data/preparation/corpus/fr/retokenized/lestragdiesdeso00tourgoog_0089.xmi, yet entity is not marked as noisy. Levenshtein distance is computed nevertheless.\n",
      "ERROR:root:Transcript for entity OEd. Col, is present in data/preparation/corpus/fr/retokenized/lestragdiesdeso00tourgoog_0090.xmi, yet entity is not marked as noisy. Levenshtein distance is computed nevertheless.\n",
      "ERROR:root:Transcript for entity OEd. Col, is present in data/preparation/corpus/fr/retokenized/lestragdiesdeso00tourgoog_0093.xmi, yet entity is not marked as noisy. Levenshtein distance is computed nevertheless.\n",
      "ERROR:root:Transcript for entity OE:l. Col. is present in data/preparation/corpus/fr/retokenized/lestragdiesdeso00tourgoog_0095.xmi, yet entity is not marked as noisy. Levenshtein distance is computed nevertheless.\n",
      "ERROR:root:Transcript for entity QEd. Roi is present in data/preparation/corpus/fr/retokenized/lestragdiesdeso00tourgoog_0095.xmi, yet entity is not marked as noisy. Levenshtein distance is computed nevertheless.\n",
      "ERROR:root:Transcript for entity ΟΣ ά. Ἀοΐ is present in data/preparation/corpus/fr/retokenized/lestragdiesdeso00tourgoog_0102.xmi, yet entity is not marked as noisy. Levenshtein distance is computed nevertheless.\n",
      "ERROR:root:Transcript for entity O£d., Roë is present in data/preparation/corpus/fr/retokenized/lestragdiesdeso00tourgoog_0105.xmi, yet entity is not marked as noisy. Levenshtein distance is computed nevertheless.\n",
      "ERROR:root:Transcript for entity ΟΕά. Roi is present in data/preparation/corpus/fr/retokenized/lestragdiesdeso00tourgoog_0105.xmi, yet entity is not marked as noisy. Levenshtein distance is computed nevertheless.\n",
      "ERROR:root:Transcript for entity EFuménides is present in data/preparation/corpus/fr/retokenized/lestragdiesdeso00tourgoog_0105.xmi, yet entity is not marked as noisy. Levenshtein distance is computed nevertheless.\n",
      "ERROR:root:Transcript for entity Antig. is present in data/preparation/corpus/fr/retokenized/lestragdiesdeso00tourgoog_0106.xmi, yet entity is not marked as noisy. Levenshtein distance is computed nevertheless.\n",
      "ERROR:root:Transcript for entity OEd. Ἀοὲ is present in data/preparation/corpus/fr/retokenized/lestragdiesdeso00tourgoog_0106.xmi, yet entity is not marked as noisy. Levenshtein distance is computed nevertheless.\n",
      "ERROR:root:Transcript for entity OEd. Οοἷ is present in data/preparation/corpus/fr/retokenized/lestragdiesdeso00tourgoog_0107.xmi, yet entity is not marked as noisy. Levenshtein distance is computed nevertheless.\n",
      "ERROR:root:Transcript for entity ΟΕ 4, Roi is present in data/preparation/corpus/fr/retokenized/lestragdiesdeso00tourgoog_0108.xmi, yet entity is not marked as noisy. Levenshtein distance is computed nevertheless.\n",
      "ERROR:root:Transcript for entity Ῥλίϊοοι. is present in data/preparation/corpus/fr/retokenized/lestragdiesdeso00tourgoog_0108.xmi, yet entity is not marked as noisy. Levenshtein distance is computed nevertheless.\n",
      "ERROR:root:Transcript for entity γτορέάϊα is present in data/preparation/corpus/fr/retokenized/lestragdiesdeso00tourgoog_0109.xmi, yet entity is not marked as noisy. Levenshtein distance is computed nevertheless.\n",
      "ERROR:root:Transcript for entity ΟΕ 4. (οἱ. is present in data/preparation/corpus/fr/retokenized/lestragdiesdeso00tourgoog_0112.xmi, yet entity is not marked as noisy. Levenshtein distance is computed nevertheless.\n",
      "ERROR:root:Transcript for entity δοἰιπεϊάεν η is present in data/preparation/corpus/fr/retokenized/lestragdiesdeso00tourgoog_0112.xmi, yet entity is not marked as noisy. Levenshtein distance is computed nevertheless.\n",
      "ERROR:root:Transcript for entity OEd. Rot is present in data/preparation/corpus/fr/retokenized/lestragdiesdeso00tourgoog_0112.xmi, yet entity is not marked as noisy. Levenshtein distance is computed nevertheless.\n",
      "ERROR:root:Transcript for entity Phil, is present in data/preparation/corpus/fr/retokenized/lestragdiesdeso00tourgoog_0112.xmi, yet entity is not marked as noisy. Levenshtein distance is computed nevertheless.\n",
      "ERROR:root:Transcript for entity GEdipe & Colone is present in data/preparation/corpus/fr/retokenized/lestragdiesdeso00tourgoog_0112.xmi, yet entity is not marked as noisy. Levenshtein distance is computed nevertheless.\n",
      "ERROR:root:Transcript for entity XIV, 1|, 351 is present in data/preparation/corpus/fr/retokenized/lestragdiesdeso00tourgoog_0112.xmi, yet entity is not marked as noisy. Levenshtein distance is computed nevertheless.\n",
      "ERROR:root:Transcript for entity “πιὶρ. is present in data/preparation/corpus/fr/retokenized/lestragdiesdeso00tourgoog_0115.xmi, yet entity is not marked as noisy. Levenshtein distance is computed nevertheless.\n",
      "ERROR:root:Transcript for entity Pliiloct. is present in data/preparation/corpus/fr/retokenized/lestragdiesdeso00tourgoog_0115.xmi, yet entity is not marked as noisy. Levenshtein distance is computed nevertheless.\n",
      "ERROR:root:Transcript for entity OEd. Ἀοΐ is present in data/preparation/corpus/fr/retokenized/lestragdiesdeso00tourgoog_0115.xmi, yet entity is not marked as noisy. Levenshtein distance is computed nevertheless.\n",
      "ERROR:root:Transcript for entity X, 684 is present in data/preparation/corpus/fr/retokenized/lestragdiesdeso00tourgoog_0116.xmi, yet entity is not marked as noisy. Levenshtein distance is computed nevertheless.\n",
      "ERROR:root:Transcript for entity QÆd, Col. is present in data/preparation/corpus/fr/retokenized/lestragdiesdeso00tourgoog_0126.xmi, yet entity is not marked as noisy. Levenshtein distance is computed nevertheless.\n",
      "ERROR:root:Transcript for entity tome {1 page 143 is present in data/preparation/corpus/fr/retokenized/lestragdiesdeso00tourgoog_0134.xmi, yet entity is not marked as noisy. Levenshtein distance is computed nevertheless.\n",
      "ERROR:root:Transcript for entity tome IT, page 616 et 616 is present in data/preparation/corpus/fr/retokenized/lestragdiesdeso00tourgoog_0138.xmi, yet entity is not marked as noisy. Levenshtein distance is computed nevertheless.\n"
     ]
    },
    {
     "name": "stderr",
     "output_type": "stream",
     "text": [
      "ERROR:root:Transcript for entity T. Liv. is present in data/preparation/corpus/fr/retokenized/lestragdiesdeso00tourgoog_0138.xmi, yet entity is not marked as noisy. Levenshtein distance is computed nevertheless.\n",
      "ERROR:root:Transcript for entity TLI, 99 is present in data/preparation/corpus/fr/retokenized/lestragdiesdeso00tourgoog_0140.xmi, yet entity is not marked as noisy. Levenshtein distance is computed nevertheless.\n",
      "ERROR:root:Transcript for entity Ἑατίρίάε is present in data/preparation/corpus/fr/retokenized/lestragdiesdeso00tourgoog_0143.xmi, yet entity is not marked as noisy. Levenshtein distance is computed nevertheless.\n",
      "ERROR:root:Transcript for entity Ale. is present in data/preparation/corpus/fr/retokenized/lestragdiesdeso00tourgoog_0145.xmi, yet entity is not marked as noisy. Levenshtein distance is computed nevertheless.\n",
      "ERROR:root:Transcript for entity 11, 8 is present in data/preparation/corpus/fr/retokenized/lestragdiesdeso00tourgoog_0147.xmi, yet entity is not marked as noisy. Levenshtein distance is computed nevertheless.\n",
      "ERROR:root:Transcript for entity 4092 is present in data/preparation/corpus/fr/retokenized/lestragdiesdeso00tourgoog_0149.xmi, yet entity is not marked as noisy. Levenshtein distance is computed nevertheless.\n",
      "ERROR:root:Transcript for entity Lettres à Articus is present in data/preparation/corpus/fr/retokenized/lestragdiesdeso00tourgoog_0153.xmi, yet entity is not marked as noisy. Levenshtein distance is computed nevertheless.\n",
      "ERROR:root:Transcript for entity δι6 is present in data/preparation/corpus/fr/retokenized/lestragdiesdeso00tourgoog_0154.xmi, yet entity is not marked as noisy. Levenshtein distance is computed nevertheless.\n"
     ]
    },
    {
     "name": "stdout",
     "output_type": "stream",
     "text": [
      "Found 1446 entities in 106 files\n"
     ]
    }
   ],
   "source": [
    "all_entities = []\n",
    "\n",
    "for language in paths:\n",
    "    entities_batch = []\n",
    "    path = paths[language]\n",
    "    xmi_files = index_inception_files(path)\n",
    "    print(f\"{len(xmi_files)} files in {language} dataset\")\n",
    "    \n",
    "    for xmi_file in xmi_files:\n",
    "        doc = read_xmi(xmi_file, xml_file=\"data/preparation/TypeSystem.xml\", sanity_check=False)\n",
    "        entities_batch += extract_entity_info(doc, lang=language)\n",
    "    \n",
    "    print(f\"Found {len(entities_batch)} entities in {len(files)} files\")\n",
    "    all_entities += entities_batch\n",
    "    "
   ]
  },
  {
   "cell_type": "code",
   "execution_count": 69,
   "id": "65973ab0",
   "metadata": {},
   "outputs": [
    {
     "data": {
      "text/plain": [
       "[{'surface': 'Aias',\n",
       "  'ocr_transcript': 'Aias',\n",
       "  'gold_transcript': None,\n",
       "  'noisy_entity': False,\n",
       "  'document_id': 'Wecklein1894_0006',\n",
       "  'language': 'de',\n",
       "  'entity_fine_type': 'pers.myth',\n",
       "  'wikidata_id': 'http://www.wikidata.org/entity/Q172725'},\n",
       " {'surface': 'Telamon',\n",
       "  'ocr_transcript': 'Telamon',\n",
       "  'gold_transcript': None,\n",
       "  'noisy_entity': False,\n",
       "  'document_id': 'Wecklein1894_0006',\n",
       "  'language': 'de',\n",
       "  'entity_fine_type': 'pers.myth',\n",
       "  'wikidata_id': 'http://www.wikidata.org/entity/Q331327'},\n",
       " {'surface': 'Aakos',\n",
       "  'ocr_transcript': 'Aakos',\n",
       "  'gold_transcript': None,\n",
       "  'noisy_entity': False,\n",
       "  'document_id': 'Wecklein1894_0006',\n",
       "  'language': 'de',\n",
       "  'entity_fine_type': 'pers.myth',\n",
       "  'wikidata_id': 'http://www.wikidata.org/entity/Q206187'},\n",
       " {'surface': 'Zeus',\n",
       "  'ocr_transcript': 'Zeus',\n",
       "  'gold_transcript': None,\n",
       "  'noisy_entity': False,\n",
       "  'document_id': 'Wecklein1894_0006',\n",
       "  'language': 'de',\n",
       "  'entity_fine_type': 'pers.myth',\n",
       "  'wikidata_id': 'http://www.wikidata.org/entity/Q34201'},\n",
       " {'surface': 'Achilleus',\n",
       "  'ocr_transcript': 'Achilleus',\n",
       "  'gold_transcript': None,\n",
       "  'noisy_entity': False,\n",
       "  'document_id': 'Wecklein1894_0006',\n",
       "  'language': 'de',\n",
       "  'entity_fine_type': 'pers.myth',\n",
       "  'wikidata_id': 'http://www.wikidata.org/entity/Q41746'}]"
      ]
     },
     "execution_count": 69,
     "metadata": {},
     "output_type": "execute_result"
    }
   ],
   "source": [
    "all_entities[:5]"
   ]
  },
  {
   "cell_type": "code",
   "execution_count": 70,
   "id": "b2a58ea3",
   "metadata": {},
   "outputs": [
    {
     "data": {
      "text/plain": [
       "4518"
      ]
     },
     "execution_count": 70,
     "metadata": {},
     "output_type": "execute_result"
    }
   ],
   "source": [
    "len(all_entities)"
   ]
  },
  {
   "cell_type": "code",
   "execution_count": 71,
   "id": "50b27667",
   "metadata": {},
   "outputs": [],
   "source": [
    "entities_df = pd.DataFrame(all_entities)"
   ]
  },
  {
   "cell_type": "code",
   "execution_count": 72,
   "id": "f91128e0",
   "metadata": {},
   "outputs": [
    {
     "data": {
      "text/plain": [
       "(4518, 8)"
      ]
     },
     "execution_count": 72,
     "metadata": {},
     "output_type": "execute_result"
    }
   ],
   "source": [
    "entities_df.shape"
   ]
  },
  {
   "cell_type": "code",
   "execution_count": 73,
   "id": "7a778e2f",
   "metadata": {},
   "outputs": [
    {
     "data": {
      "text/html": [
       "<div>\n",
       "<style scoped>\n",
       "    .dataframe tbody tr th:only-of-type {\n",
       "        vertical-align: middle;\n",
       "    }\n",
       "\n",
       "    .dataframe tbody tr th {\n",
       "        vertical-align: top;\n",
       "    }\n",
       "\n",
       "    .dataframe thead th {\n",
       "        text-align: right;\n",
       "    }\n",
       "</style>\n",
       "<table border=\"1\" class=\"dataframe\">\n",
       "  <thead>\n",
       "    <tr style=\"text-align: right;\">\n",
       "      <th></th>\n",
       "      <th>surface</th>\n",
       "      <th>ocr_transcript</th>\n",
       "      <th>gold_transcript</th>\n",
       "      <th>noisy_entity</th>\n",
       "      <th>document_id</th>\n",
       "      <th>language</th>\n",
       "      <th>entity_fine_type</th>\n",
       "      <th>wikidata_id</th>\n",
       "    </tr>\n",
       "  </thead>\n",
       "  <tbody>\n",
       "    <tr>\n",
       "      <th>0</th>\n",
       "      <td>Aias</td>\n",
       "      <td>Aias</td>\n",
       "      <td>None</td>\n",
       "      <td>False</td>\n",
       "      <td>Wecklein1894_0006</td>\n",
       "      <td>de</td>\n",
       "      <td>pers.myth</td>\n",
       "      <td>http://www.wikidata.org/entity/Q172725</td>\n",
       "    </tr>\n",
       "    <tr>\n",
       "      <th>1</th>\n",
       "      <td>Telamon</td>\n",
       "      <td>Telamon</td>\n",
       "      <td>None</td>\n",
       "      <td>False</td>\n",
       "      <td>Wecklein1894_0006</td>\n",
       "      <td>de</td>\n",
       "      <td>pers.myth</td>\n",
       "      <td>http://www.wikidata.org/entity/Q331327</td>\n",
       "    </tr>\n",
       "    <tr>\n",
       "      <th>2</th>\n",
       "      <td>Aakos</td>\n",
       "      <td>Aakos</td>\n",
       "      <td>None</td>\n",
       "      <td>False</td>\n",
       "      <td>Wecklein1894_0006</td>\n",
       "      <td>de</td>\n",
       "      <td>pers.myth</td>\n",
       "      <td>http://www.wikidata.org/entity/Q206187</td>\n",
       "    </tr>\n",
       "    <tr>\n",
       "      <th>3</th>\n",
       "      <td>Zeus</td>\n",
       "      <td>Zeus</td>\n",
       "      <td>None</td>\n",
       "      <td>False</td>\n",
       "      <td>Wecklein1894_0006</td>\n",
       "      <td>de</td>\n",
       "      <td>pers.myth</td>\n",
       "      <td>http://www.wikidata.org/entity/Q34201</td>\n",
       "    </tr>\n",
       "    <tr>\n",
       "      <th>4</th>\n",
       "      <td>Achilleus</td>\n",
       "      <td>Achilleus</td>\n",
       "      <td>None</td>\n",
       "      <td>False</td>\n",
       "      <td>Wecklein1894_0006</td>\n",
       "      <td>de</td>\n",
       "      <td>pers.myth</td>\n",
       "      <td>http://www.wikidata.org/entity/Q41746</td>\n",
       "    </tr>\n",
       "    <tr>\n",
       "      <th>...</th>\n",
       "      <td>...</td>\n",
       "      <td>...</td>\n",
       "      <td>...</td>\n",
       "      <td>...</td>\n",
       "      <td>...</td>\n",
       "      <td>...</td>\n",
       "      <td>...</td>\n",
       "      <td>...</td>\n",
       "    </tr>\n",
       "    <tr>\n",
       "      <th>4513</th>\n",
       "      <td>Le même</td>\n",
       "      <td>Le même</td>\n",
       "      <td>None</td>\n",
       "      <td>False</td>\n",
       "      <td>lestragdiesdeso00tourgoog_0155</td>\n",
       "      <td>fr</td>\n",
       "      <td>pers.author</td>\n",
       "      <td>http://www.wikidata.org/entity/Q18411800</td>\n",
       "    </tr>\n",
       "    <tr>\n",
       "      <th>4514</th>\n",
       "      <td>Teucer</td>\n",
       "      <td>Teucer</td>\n",
       "      <td>None</td>\n",
       "      <td>False</td>\n",
       "      <td>lestragdiesdeso00tourgoog_0155</td>\n",
       "      <td>fr</td>\n",
       "      <td>pers.myth</td>\n",
       "      <td>http://www.wikidata.org/entity/Q878184</td>\n",
       "    </tr>\n",
       "    <tr>\n",
       "      <th>4515</th>\n",
       "      <td>Eschyle</td>\n",
       "      <td>Eschyle</td>\n",
       "      <td>None</td>\n",
       "      <td>False</td>\n",
       "      <td>lestragdiesdeso00tourgoog_0155</td>\n",
       "      <td>fr</td>\n",
       "      <td>pers.author</td>\n",
       "      <td>http://www.wikidata.org/entity/Q40939</td>\n",
       "    </tr>\n",
       "    <tr>\n",
       "      <th>4516</th>\n",
       "      <td>Agamemnon</td>\n",
       "      <td>Agamem- πον</td>\n",
       "      <td>Agamemnon</td>\n",
       "      <td>True</td>\n",
       "      <td>lestragdiesdeso00tourgoog_0155</td>\n",
       "      <td>fr</td>\n",
       "      <td>work.primlit</td>\n",
       "      <td>http://www.wikidata.org/entity/Q128176</td>\n",
       "    </tr>\n",
       "    <tr>\n",
       "      <th>4517</th>\n",
       "      <td>Schneidewin</td>\n",
       "      <td>Schueidewin</td>\n",
       "      <td>Schneidewin</td>\n",
       "      <td>True</td>\n",
       "      <td>lestragdiesdeso00tourgoog_0156</td>\n",
       "      <td>fr</td>\n",
       "      <td>pers.editor</td>\n",
       "      <td>http://www.wikidata.org/entity/Q70043</td>\n",
       "    </tr>\n",
       "  </tbody>\n",
       "</table>\n",
       "<p>4518 rows × 8 columns</p>\n",
       "</div>"
      ],
      "text/plain": [
       "          surface ocr_transcript gold_transcript  noisy_entity  \\\n",
       "0            Aias           Aias            None         False   \n",
       "1         Telamon        Telamon            None         False   \n",
       "2           Aakos          Aakos            None         False   \n",
       "3            Zeus           Zeus            None         False   \n",
       "4       Achilleus      Achilleus            None         False   \n",
       "...           ...            ...             ...           ...   \n",
       "4513      Le même        Le même            None         False   \n",
       "4514       Teucer         Teucer            None         False   \n",
       "4515      Eschyle        Eschyle            None         False   \n",
       "4516    Agamemnon    Agamem- πον       Agamemnon          True   \n",
       "4517  Schneidewin    Schueidewin     Schneidewin          True   \n",
       "\n",
       "                         document_id language entity_fine_type  \\\n",
       "0                  Wecklein1894_0006       de        pers.myth   \n",
       "1                  Wecklein1894_0006       de        pers.myth   \n",
       "2                  Wecklein1894_0006       de        pers.myth   \n",
       "3                  Wecklein1894_0006       de        pers.myth   \n",
       "4                  Wecklein1894_0006       de        pers.myth   \n",
       "...                              ...      ...              ...   \n",
       "4513  lestragdiesdeso00tourgoog_0155       fr      pers.author   \n",
       "4514  lestragdiesdeso00tourgoog_0155       fr        pers.myth   \n",
       "4515  lestragdiesdeso00tourgoog_0155       fr      pers.author   \n",
       "4516  lestragdiesdeso00tourgoog_0155       fr     work.primlit   \n",
       "4517  lestragdiesdeso00tourgoog_0156       fr      pers.editor   \n",
       "\n",
       "                                   wikidata_id  \n",
       "0       http://www.wikidata.org/entity/Q172725  \n",
       "1       http://www.wikidata.org/entity/Q331327  \n",
       "2       http://www.wikidata.org/entity/Q206187  \n",
       "3        http://www.wikidata.org/entity/Q34201  \n",
       "4        http://www.wikidata.org/entity/Q41746  \n",
       "...                                        ...  \n",
       "4513  http://www.wikidata.org/entity/Q18411800  \n",
       "4514    http://www.wikidata.org/entity/Q878184  \n",
       "4515     http://www.wikidata.org/entity/Q40939  \n",
       "4516    http://www.wikidata.org/entity/Q128176  \n",
       "4517     http://www.wikidata.org/entity/Q70043  \n",
       "\n",
       "[4518 rows x 8 columns]"
      ]
     },
     "execution_count": 73,
     "metadata": {},
     "output_type": "execute_result"
    }
   ],
   "source": [
    "\n",
    "entities_df"
   ]
  },
  {
   "cell_type": "code",
   "execution_count": 74,
   "id": "90b6ed8f",
   "metadata": {},
   "outputs": [
    {
     "data": {
      "text/plain": [
       "array(['pers.myth', 'pers.author', 'work.primlit', 'loc', 'date',\n",
       "       'pers.other', 'work.fragm', 'pers.editor', 'work.seclit',\n",
       "       'object.manuscr', 'work.journal', 'work.other', 'secondary-meta'],\n",
       "      dtype=object)"
      ]
     },
     "execution_count": 74,
     "metadata": {},
     "output_type": "execute_result"
    }
   ],
   "source": [
    "entities_df.entity_fine_type.unique()"
   ]
  },
  {
   "cell_type": "code",
   "execution_count": 117,
   "id": "9e2ee605",
   "metadata": {},
   "outputs": [],
   "source": [
    "entities_df.to_csv(\"all_entities_info.csv\", sep=\"\\t\")"
   ]
  },
  {
   "cell_type": "code",
   "execution_count": 82,
   "id": "8cdfd3c1",
   "metadata": {},
   "outputs": [],
   "source": [
    "entities_grouped = entities_df.groupby(['surface', 'entity_fine_type', 'wikidata_id'])"
   ]
  },
  {
   "cell_type": "code",
   "execution_count": 115,
   "id": "55969c06",
   "metadata": {},
   "outputs": [],
   "source": [
    "entities_grouped.agg(\n",
    "    {\n",
    "        \"document_id\": lambda x: \", \".join(x.unique()),\n",
    "        \"entity_fine_type\": lambda x: \", \".join(x.unique()),\n",
    "    }\n",
    ").sort_values(by=\"surface\").to_csv('data_cleaning.csv', sep=\"\\t\")"
   ]
  },
  {
   "cell_type": "code",
   "execution_count": null,
   "id": "d686bd04",
   "metadata": {},
   "outputs": [],
   "source": []
  }
 ],
 "metadata": {
  "kernelspec": {
   "display_name": "Python 3 (ipykernel)",
   "language": "python",
   "name": "python3"
  },
  "language_info": {
   "codemirror_mode": {
    "name": "ipython",
    "version": 3
   },
   "file_extension": ".py",
   "mimetype": "text/x-python",
   "name": "python",
   "nbconvert_exporter": "python",
   "pygments_lexer": "ipython3",
   "version": "3.8.0"
  }
 },
 "nbformat": 4,
 "nbformat_minor": 5
}
